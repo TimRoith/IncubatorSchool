{
 "cells": [
  {
   "cell_type": "markdown",
   "id": "53f3db69-8ff8-47a0-85b3-8d36b1e5a1ff",
   "metadata": {},
   "source": [
    "# Hello :)\n",
    "\n",
    "With this notebook &#128211; you can check, if everything is set up for the incubator course **\"Regularization in Image Reconstruction: From Model to Data Driven Methods\"**!\n",
    "We will go over everything in detail, but here's the list of packages we need:\n",
    "\n",
    "* ```numpy```\n",
    "* ```matplotlib```\n",
    "* ```skimage``` (for installation: ```scikit-image```)\n",
    "* ```torch```\n",
    "* ```torchvision```\n",
    "\n",
    "Let's check if everthing works.\n",
    "\n",
    "## Importing ```numpy```\n",
    "\n",
    "Let us first check if you can import ```numpy```, the basic package, which we will need for a lot of things. Just try to run the cell below :)"
   ]
  },
  {
   "cell_type": "code",
   "execution_count": null,
   "id": "cf3e1aff-2ca5-47a3-adc5-450452e1deed",
   "metadata": {},
   "outputs": [],
   "source": [
    "import numpy as np"
   ]
  },
  {
   "attachments": {},
   "cell_type": "markdown",
   "id": "ae614b56-e5d4-4319-9a3a-06ecf581dfca",
   "metadata": {},
   "source": [
    "If it worked, there should be a number displayed to the left side of the cell.\n",
    "\n",
    "## Importing ```matplotlib```\n",
    "\n",
    "Working with images, also means looking at images and graphs &#x1F4C8; Here, we need the ```matplotlib``` package  let's test if it works, by running the following cell."
   ]
  },
  {
   "cell_type": "code",
   "execution_count": null,
   "id": "114fc3b0-0da2-45bc-adf9-a2822a9a976a",
   "metadata": {},
   "outputs": [],
   "source": [
    "import matplotlib.pyplot as plt\n",
    "x = np.linspace(-10,10, 200)\n",
    "I = np.linspace(1,2,5)[:,None]**np.arange(5)\n",
    "\n",
    "fig, ax = plt.subplots(1, 2, squeeze=False)\n",
    "ax[0,0].plot(x, np.log(np.abs(x)) * np.sin(x), linewidth=3, color = 'xkcd:sky')\n",
    "ax[0,1].imshow(I)"
   ]
  },
  {
   "attachments": {},
   "cell_type": "markdown",
   "id": "a7d9fe80-2b67-4be2-93e3-8e9d51aa8cc5",
   "metadata": {},
   "source": [
    "Did it work? Great!\n",
    "\n",
    "## Importing ```skimage```\n",
    "\n",
    "Next, we test a pretty handy package for image processing named ```skimage```. This allows us to display the most well-known test image in the community...or rather a modern version of it ;)"
   ]
  },
  {
   "cell_type": "code",
   "execution_count": null,
   "id": "2d30d267-46c0-4077-845e-2dda01a546d8",
   "metadata": {},
   "outputs": [],
   "source": [
    "import skimage as ski\n",
    "from skimage import data, img_as_float\n",
    "\n",
    "I = img_as_float(data.camera())\n",
    "plt.imshow(I, cmap='gray')"
   ]
  },
  {
   "cell_type": "markdown",
   "id": "5a55c35e-9978-409c-89eb-ffa24a6a4598",
   "metadata": {},
   "source": [
    "\n",
    "## Importing ```torch```\n",
    "\n",
    "For data-driven approaches involving machine-learning and neural networks, the package ```torch``` will help us a lot. Let's see if everything works."
   ]
  },
  {
   "cell_type": "code",
   "execution_count": null,
   "id": "322a60d3-8cb9-4db5-a4be-be59cf924bc3",
   "metadata": {
    "scrolled": true
   },
   "outputs": [],
   "source": [
    "import torch\n",
    "import torch.nn as nn\n",
    "import torchvision\n",
    "\n",
    "conv = nn.Conv2d(1, 1, 6, stride=2)\n",
    "I_torch = torch.Tensor(I[None, None, :,:])\n",
    "I_conv = conv(I_torch)\n",
    "\n",
    "plt.imshow(I_conv.detach()[0,0,...], cmap='gray')"
   ]
  },
  {
   "cell_type": "markdown",
   "id": "34f6c102-8717-4d99-b6fc-09c9a4919cf5",
   "metadata": {},
   "source": [
    "If the above cell should display a filtered version the camera man.\n",
    "\n",
    "## Did everything work?\n",
    "If everything worked, then you are ready to go for our tutorial :)\n",
    "\n",
    "If there are some problems, feel free to contact us via mail at tim.roith@desy.de"
   ]
  }
 ],
 "metadata": {
  "kernelspec": {
   "display_name": "Python 3 (ipykernel)",
   "language": "python",
   "name": "python3"
  },
  "language_info": {
   "codemirror_mode": {
    "name": "ipython",
    "version": 3
   },
   "file_extension": ".py",
   "mimetype": "text/x-python",
   "name": "python",
   "nbconvert_exporter": "python",
   "pygments_lexer": "ipython3",
   "version": "3.10.10"
  }
 },
 "nbformat": 4,
 "nbformat_minor": 5
}
