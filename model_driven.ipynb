{
 "cells": [
  {
   "cell_type": "code",
   "execution_count": 1,
   "metadata": {},
   "outputs": [],
   "source": [
    "import numpy as np\n",
    "import skimage as ski\n",
    "import matplotlib.pyplot as plt\n",
    "import ipywidgets as widgets\n",
    "from ipywidgets import interactive\n",
    "from IPython.display import display"
   ]
  },
  {
   "cell_type": "code",
   "execution_count": 2,
   "metadata": {},
   "outputs": [
    {
     "data": {
      "application/vnd.jupyter.widget-view+json": {
       "model_id": "db2f128c6ac9406c82206c113b08788d",
       "version_major": 2,
       "version_minor": 0
      },
      "text/plain": [
       "interactive(children=(FloatSlider(value=0.0, continuous_update=False, description='lamda', max=1.0), FloatSlid…"
      ]
     },
     "metadata": {},
     "output_type": "display_data"
    }
   ],
   "source": [
    "from optimizers import ista_L1\n",
    "from operators import Radon, L1_norm\n",
    "from utils import get_phantom\n",
    "\n",
    "dim = 100\n",
    "pre_compute = {}\n",
    "phantom = get_phantom(dim)\n",
    "\n",
    "def plot_lamda(lamda, noise_lvl, num_theta):\n",
    "    theta = np.linspace(0,180, endpoint= False, num=num_theta)\n",
    "    R = Radon(theta=theta)\n",
    "    if (lamda, noise_lvl, num_theta) in pre_compute:\n",
    "        u, energy_hist = pre_compute[(lamda, noise_lvl, num_theta)]\n",
    "    else:\n",
    "        sinogram = R(phantom) + np.random.normal(loc = 0, scale= noise_lvl, size = [dim,num_theta])\n",
    "        def energy_fun(u):\n",
    "            return np.linalg.norm(R(u) - sinogram)**2 + lamda * L1_norm()(u)\n",
    "        \n",
    "        ista = ista_L1(R, R.inv(sinogram), sinogram, t=0.1, lamda=lamda, energy_fun=energy_fun, verbosity = 0.)\n",
    "        ista.solve()\n",
    "        \n",
    "        \n",
    "        u = ista.u\n",
    "        energy_hist = ista.energy_hist\n",
    "        pre_compute[(lamda, noise_lvl, num_theta)] = [u, energy_hist]\n",
    "    \n",
    "    fig, ax = plt.subplots(1,2, figsize=(20,5))\n",
    "    ax[0].imshow(u)\n",
    "    ax[1].plot(energy_hist, linewidth=3, color='xkcd:sky')\n",
    "    ax[1].set_title('Energy')\n",
    "    ax[1].set_xlabel('Iteration')\n",
    "\n",
    "\n",
    "l_slider = widgets.FloatSlider(min = 0, max = 1., step = 0.1, value = 0, continuous_update = False)\n",
    "s_slider = widgets.FloatSlider(min = 0, max = .1, step = 0.01, value = 0, continuous_update = False)\n",
    "t_slider = widgets.IntSlider(min = 1, max = 100, step = 0.01, value = 100, continuous_update = False)\n",
    "interactive_plot = interactive(plot_lamda, lamda = l_slider, noise_lvl = s_slider, num_theta = t_slider)\n",
    "display(interactive_plot)"
   ]
  },
  {
   "cell_type": "code",
   "execution_count": 3,
   "metadata": {},
   "outputs": [
    {
     "data": {
      "application/vnd.jupyter.widget-view+json": {
       "model_id": "4ad488b36c8246a487d0938138d27d7c",
       "version_major": 2,
       "version_minor": 0
      },
      "text/plain": [
       "interactive(children=(FloatSlider(value=0.0, continuous_update=False, description='lamda', max=0.1, step=0.01)…"
      ]
     },
     "metadata": {},
     "output_type": "display_data"
    }
   ],
   "source": [
    "from optimizers import ista_L1, split_Bregman_TV\n",
    "from operators import Radon, L1_norm, TV\n",
    "from utils import get_phantom\n",
    "\n",
    "dim = 100\n",
    "num_theta = 100\n",
    "pre_compute = {}\n",
    "phantom = get_phantom(dim)\n",
    "\n",
    "def plot_lamda(lamda, noise_lvl, max_angle):\n",
    "    inp = (lamda, noise_lvl, max_angle)\n",
    "    theta = np.linspace(0,max_angle, endpoint= False, num=num_theta)\n",
    "    R = Radon(theta=theta)\n",
    "    if inp in pre_compute:\n",
    "        u, energy_hist = pre_compute[inp]\n",
    "    else:\n",
    "        sinogram = R(phantom) + np.random.normal(loc = 0, scale= noise_lvl, size = [dim,num_theta])\n",
    "        def energy_fun(u):\n",
    "            return np.linalg.norm(R(u) - sinogram)**2 + lamda * TV()(u)\n",
    "        \n",
    "        sBTV = split_Bregman_TV(R, sinogram, R.inv(sinogram), gamma=1.0, \n",
    "                        energy_fun=energy_fun, lamda = lamda,\n",
    "                        max_it = 10,\n",
    "                        max_inner_it = 2, verbosity = 0)\n",
    "        sBTV.solve()\n",
    "        \n",
    "        u = sBTV.u\n",
    "        energy_hist = sBTV.energy_hist\n",
    "        pre_compute[inp] = [u, energy_hist]\n",
    "    \n",
    "    fig, ax = plt.subplots(1,2, figsize=(20,5))\n",
    "    ax[0].imshow(u)\n",
    "    ax[1].plot(energy_hist, linewidth=3, color='xkcd:sky')\n",
    "    ax[1].set_title('Energy')\n",
    "    ax[1].set_xlabel('Iteration')\n",
    "\n",
    "\n",
    "l_slider = widgets.FloatSlider(min = 0.0, max = .1, step = 0.01, value = 0, continuous_update = False)\n",
    "s_slider = widgets.FloatSlider(min = 0, max = .05, step = 0.01, value = 0, continuous_update = False)\n",
    "a_slider = widgets.IntSlider(min = 1, max = 180, step = 10, value = 180, continuous_update = False)\n",
    "interactive_plot = interactive(plot_lamda, \n",
    "                               lamda = l_slider, \n",
    "                               noise_lvl = s_slider,\n",
    "                               max_angle = a_slider)\n",
    "display(interactive_plot)\n"
   ]
  },
  {
   "cell_type": "code",
   "execution_count": 4,
   "metadata": {},
   "outputs": [
    {
     "name": "stderr",
     "output_type": "stream",
     "text": [
      "\n",
      "KeyboardInterrupt\n",
      "\n"
     ]
    }
   ],
   "source": [
    "approx = []\n",
    "for lamda in range(20):\n",
    "    approx.append(ista(y, radon, radon_adjoint, soft_shrinkage, t=0.0003, lamda = lamda, iter = 50))\n"
   ]
  },
  {
   "cell_type": "code",
   "execution_count": null,
   "metadata": {},
   "outputs": [],
   "source": [
    "def plot_lamda(idx):\n",
    "    \n",
    "    fig = plt.figure()\n",
    "    plt.imshow(approx[idx])\n",
    "\n",
    "\n",
    "slider = widgets.IntSlider(min = 0, max = 19, step = 1, value = 0, continuous_update = True)\n",
    "interactive_plot = interactive(plot_lamda, idx = slider)\n",
    "display(interactive_plot)"
   ]
  },
  {
   "cell_type": "code",
   "execution_count": null,
   "metadata": {},
   "outputs": [],
   "source": [
    "plt.imshow(ski.transform.iradon(y,theta))\n",
    "plt.figure()\n",
    "plt.imshow(approx)"
   ]
  },
  {
   "cell_type": "code",
   "execution_count": null,
   "metadata": {},
   "outputs": [],
   "source": [
    "alpha = 3\n",
    "x = np.linspace(-10,10,num=100)\n",
    "prox_x = soft_shrinkage(x, alpha)\n",
    "plt.plot(x, prox_x)"
   ]
  },
  {
   "cell_type": "code",
   "execution_count": null,
   "metadata": {},
   "outputs": [],
   "source": []
  }
 ],
 "metadata": {
  "kernelspec": {
   "display_name": "Python 3 (ipykernel)",
   "language": "python",
   "name": "python3"
  },
  "language_info": {
   "codemirror_mode": {
    "name": "ipython",
    "version": 3
   },
   "file_extension": ".py",
   "mimetype": "text/x-python",
   "name": "python",
   "nbconvert_exporter": "python",
   "pygments_lexer": "ipython3",
   "version": "3.10.9"
  }
 },
 "nbformat": 4,
 "nbformat_minor": 4
}
