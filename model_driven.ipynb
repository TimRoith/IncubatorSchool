{
 "cells": [
  {
   "cell_type": "code",
   "execution_count": 1,
   "metadata": {},
   "outputs": [],
   "source": [
    "import numpy as np\n",
    "import skimage as ski\n",
    "import matplotlib.pyplot as plt\n",
    "import ipywidgets as widgets\n",
    "from ipywidgets import interactive\n",
    "from IPython.display import display"
   ]
  },
  {
   "cell_type": "code",
   "execution_count": 2,
   "metadata": {},
   "outputs": [],
   "source": [
    "def soft_shrinkage(x, alpha):\n",
    "    return np.maximum(np.abs(x)-alpha, 0)*np.sign(x)\n",
    "\n",
    "def gradient_step(x, y, A, A_adjoint, t):\n",
    "    grad = A_adjoint(A(x) - y)\n",
    "    return x - 2*t*grad\n",
    "\n",
    "def ista(y, A, A_adjoint, prox, t, lamda, iter):\n",
    "    x = ski.transform.iradon(y*y.shape[-2])\n",
    "\n",
    "    for i in range(iter):#\n",
    "        e = np.linalg.norm(A(x)-y)**2 + lamda*np.linalg.norm(x, ord=1)\n",
    "        print('Iteration ' + str(i) + ', Energy: ' + str(e))\n",
    "        lin_up = gradient_step(x, y, A, A_adjoint, t)\n",
    "        x = prox(lin_up, lamda*t)\n",
    "        \n",
    "    return x\n"
   ]
  },
  {
   "cell_type": "code",
   "execution_count": 3,
   "metadata": {},
   "outputs": [
    {
     "name": "stdout",
     "output_type": "stream",
     "text": [
      "Iteration 0, Energy: 27.52624193448563\n",
      "Iteration 1, Energy: 27.49698874508569\n",
      "Iteration 2, Energy: 27.46824311980224\n",
      "Iteration 3, Energy: 27.440004265696217\n",
      "Iteration 4, Energy: 27.412272148438863\n",
      "Iteration 5, Energy: 27.385045923363567\n",
      "Iteration 6, Energy: 27.358323648719008\n",
      "Iteration 7, Energy: 27.332105730213318\n",
      "Iteration 8, Energy: 27.30638988058317\n",
      "Iteration 9, Energy: 27.281175956867298\n",
      "Iteration 10, Energy: 27.256461627851156\n",
      "Iteration 11, Energy: 27.23224911261906\n",
      "Iteration 12, Energy: 27.208540296434666\n",
      "Iteration 13, Energy: 27.185335191587143\n",
      "Iteration 14, Energy: 27.162632158963216\n",
      "Iteration 15, Energy: 27.1404280168305\n",
      "Iteration 16, Energy: 27.11871823304807\n",
      "Iteration 17, Energy: 27.09750586580371\n",
      "Iteration 18, Energy: 27.076790186157\n",
      "Iteration 19, Energy: 27.056565452724747\n",
      "Iteration 20, Energy: 27.036830843939082\n",
      "Iteration 21, Energy: 27.017646004347398\n",
      "Iteration 22, Energy: 26.999199504451145\n",
      "Iteration 23, Energy: 26.981242768474164\n",
      "Iteration 24, Energy: 26.963790293644873\n",
      "Iteration 25, Energy: 26.94683161064796\n",
      "Iteration 26, Energy: 26.93036759664156\n",
      "Iteration 27, Energy: 26.91439626885912\n",
      "Iteration 28, Energy: 26.898917894047827\n",
      "Iteration 29, Energy: 26.88392889009941\n",
      "Iteration 30, Energy: 26.869428092025025\n",
      "Iteration 31, Energy: 26.85542681087583\n",
      "Iteration 32, Energy: 26.841907785225946\n",
      "Iteration 33, Energy: 26.828877391907998\n",
      "Iteration 34, Energy: 26.816335585727316\n",
      "Iteration 35, Energy: 26.804281343196216\n",
      "Iteration 36, Energy: 26.792728389353677\n",
      "Iteration 37, Energy: 26.78165381982716\n",
      "Iteration 38, Energy: 26.771068190577836\n",
      "Iteration 39, Energy: 26.76098561725745\n",
      "Iteration 40, Energy: 26.751382999194348\n",
      "Iteration 41, Energy: 26.74225068417754\n",
      "Iteration 42, Energy: 26.733596206398904\n",
      "Iteration 43, Energy: 26.725414411804813\n",
      "Iteration 44, Energy: 26.717796424367833\n",
      "Iteration 45, Energy: 26.71087390145507\n",
      "Iteration 46, Energy: 26.704432169617366\n",
      "Iteration 47, Energy: 26.69845619602775\n",
      "Iteration 48, Energy: 26.692953205439295\n",
      "Iteration 49, Energy: 26.687934421070427\n",
      "Iteration 0, Energy: 54.40803058805277\n",
      "Iteration 1, Energy: 54.290623159830126\n",
      "Iteration 2, Energy: 54.17524539647909\n",
      "Iteration 3, Energy: 54.061894814354076\n",
      "Iteration 4, Energy: 53.950566547403945\n",
      "Iteration 5, Energy: 53.841254195792004\n",
      "Iteration 6, Energy: 53.733961980116106\n",
      "Iteration 7, Energy: 53.628698813220296\n",
      "Iteration 8, Energy: 53.52544859924545\n",
      "Iteration 9, Energy: 53.42420566248344\n",
      "Iteration 10, Energy: 53.3249556075793\n",
      "Iteration 11, Energy: 53.228409769748296\n",
      "Iteration 12, Energy: 53.13436509660988\n",
      "Iteration 13, Energy: 53.04233881168278\n",
      "Iteration 14, Energy: 52.95231994609872\n",
      "Iteration 15, Energy: 52.86429750189657\n",
      "Iteration 16, Energy: 52.77828345640767\n",
      "Iteration 17, Energy: 52.69425991597901\n",
      "Iteration 18, Energy: 52.61224554672369\n",
      "Iteration 19, Energy: 52.5322244451208\n",
      "Iteration 20, Energy: 52.45422730414988\n",
      "Iteration 21, Energy: 52.37817962041866\n",
      "Iteration 22, Energy: 52.304322823271505\n",
      "Iteration 23, Energy: 52.233409397541344\n",
      "Iteration 24, Energy: 52.164437171818605\n",
      "Iteration 25, Energy: 52.09744332316498\n",
      "Iteration 26, Energy: 52.032425660226586\n",
      "Iteration 27, Energy: 51.969390631602636\n",
      "Iteration 28, Energy: 51.90830461133422\n",
      "Iteration 29, Energy: 51.849163485378156\n",
      "Iteration 30, Energy: 51.791981387798835\n"
     ]
    },
    {
     "ename": "KeyboardInterrupt",
     "evalue": "",
     "output_type": "error",
     "traceback": [
      "\u001b[1;31m---------------------------------------------------------------------------\u001b[0m",
      "\u001b[1;31mKeyboardInterrupt\u001b[0m                         Traceback (most recent call last)",
      "Cell \u001b[1;32mIn[3], line 14\u001b[0m\n\u001b[0;32m     12\u001b[0m approx \u001b[38;5;241m=\u001b[39m []\n\u001b[0;32m     13\u001b[0m \u001b[38;5;28;01mfor\u001b[39;00m lamda \u001b[38;5;129;01min\u001b[39;00m \u001b[38;5;28mrange\u001b[39m(\u001b[38;5;241m10\u001b[39m):\n\u001b[1;32m---> 14\u001b[0m     approx\u001b[38;5;241m.\u001b[39mappend(\u001b[43mista\u001b[49m\u001b[43m(\u001b[49m\u001b[43my\u001b[49m\u001b[43m,\u001b[49m\u001b[43m \u001b[49m\u001b[43mradon\u001b[49m\u001b[43m,\u001b[49m\u001b[43m \u001b[49m\u001b[43mradon_adjoint\u001b[49m\u001b[43m,\u001b[49m\u001b[43m \u001b[49m\u001b[43msoft_shrinkage\u001b[49m\u001b[43m,\u001b[49m\u001b[43m \u001b[49m\u001b[43mt\u001b[49m\u001b[38;5;241;43m=\u001b[39;49m\u001b[38;5;241;43m0.0003\u001b[39;49m\u001b[43m,\u001b[49m\u001b[43m \u001b[49m\u001b[43mlamda\u001b[49m\u001b[43m \u001b[49m\u001b[38;5;241;43m=\u001b[39;49m\u001b[43m \u001b[49m\u001b[43mlamda\u001b[49m\u001b[38;5;241;43m+\u001b[39;49m\u001b[38;5;241;43m1\u001b[39;49m\u001b[43m,\u001b[49m\u001b[43m \u001b[49m\u001b[38;5;28;43miter\u001b[39;49m\u001b[43m \u001b[49m\u001b[38;5;241;43m=\u001b[39;49m\u001b[43m \u001b[49m\u001b[38;5;241;43m50\u001b[39;49m\u001b[43m)\u001b[49m)\n",
      "Cell \u001b[1;32mIn[2], line 12\u001b[0m, in \u001b[0;36mista\u001b[1;34m(y, A, A_adjoint, prox, t, lamda, iter)\u001b[0m\n\u001b[0;32m      9\u001b[0m x \u001b[38;5;241m=\u001b[39m ski\u001b[38;5;241m.\u001b[39mtransform\u001b[38;5;241m.\u001b[39miradon(y\u001b[38;5;241m*\u001b[39my\u001b[38;5;241m.\u001b[39mshape[\u001b[38;5;241m-\u001b[39m\u001b[38;5;241m2\u001b[39m])\n\u001b[0;32m     11\u001b[0m \u001b[38;5;28;01mfor\u001b[39;00m i \u001b[38;5;129;01min\u001b[39;00m \u001b[38;5;28mrange\u001b[39m(\u001b[38;5;28miter\u001b[39m):\u001b[38;5;66;03m#\u001b[39;00m\n\u001b[1;32m---> 12\u001b[0m     e \u001b[38;5;241m=\u001b[39m np\u001b[38;5;241m.\u001b[39mlinalg\u001b[38;5;241m.\u001b[39mnorm(\u001b[43mA\u001b[49m\u001b[43m(\u001b[49m\u001b[43mx\u001b[49m\u001b[43m)\u001b[49m\u001b[38;5;241m-\u001b[39my)\u001b[38;5;241m*\u001b[39m\u001b[38;5;241m*\u001b[39m\u001b[38;5;241m2\u001b[39m \u001b[38;5;241m+\u001b[39m lamda\u001b[38;5;241m*\u001b[39mnp\u001b[38;5;241m.\u001b[39mlinalg\u001b[38;5;241m.\u001b[39mnorm(x, \u001b[38;5;28mord\u001b[39m\u001b[38;5;241m=\u001b[39m\u001b[38;5;241m1\u001b[39m)\n\u001b[0;32m     13\u001b[0m     \u001b[38;5;28mprint\u001b[39m(\u001b[38;5;124m'\u001b[39m\u001b[38;5;124mIteration \u001b[39m\u001b[38;5;124m'\u001b[39m \u001b[38;5;241m+\u001b[39m \u001b[38;5;28mstr\u001b[39m(i) \u001b[38;5;241m+\u001b[39m \u001b[38;5;124m'\u001b[39m\u001b[38;5;124m, Energy: \u001b[39m\u001b[38;5;124m'\u001b[39m \u001b[38;5;241m+\u001b[39m \u001b[38;5;28mstr\u001b[39m(e))\n\u001b[0;32m     14\u001b[0m     lin_up \u001b[38;5;241m=\u001b[39m gradient_step(x, y, A, A_adjoint, t)\n",
      "Cell \u001b[1;32mIn[3], line 5\u001b[0m, in \u001b[0;36mradon\u001b[1;34m(x)\u001b[0m\n\u001b[0;32m      4\u001b[0m \u001b[38;5;28;01mdef\u001b[39;00m \u001b[38;5;21mradon\u001b[39m(x):\n\u001b[1;32m----> 5\u001b[0m     \u001b[38;5;28;01mreturn\u001b[39;00m \u001b[43mski\u001b[49m\u001b[38;5;241;43m.\u001b[39;49m\u001b[43mtransform\u001b[49m\u001b[38;5;241;43m.\u001b[39;49m\u001b[43mradon\u001b[49m\u001b[43m(\u001b[49m\u001b[43mx\u001b[49m\u001b[43m,\u001b[49m\u001b[43m \u001b[49m\u001b[43mtheta\u001b[49m\u001b[43m)\u001b[49m\u001b[38;5;241m/\u001b[39mx\u001b[38;5;241m.\u001b[39mshape[\u001b[38;5;241m-\u001b[39m\u001b[38;5;241m1\u001b[39m]\n",
      "File \u001b[1;32m~\\AppData\\Local\\miniconda3\\lib\\site-packages\\skimage\\transform\\radon_transform.py:105\u001b[0m, in \u001b[0;36mradon\u001b[1;34m(image, theta, circle, preserve_range)\u001b[0m\n\u001b[0;32m    101\u001b[0m     cos_a, sin_a \u001b[38;5;241m=\u001b[39m np\u001b[38;5;241m.\u001b[39mcos(angle), np\u001b[38;5;241m.\u001b[39msin(angle)\n\u001b[0;32m    102\u001b[0m     R \u001b[38;5;241m=\u001b[39m np\u001b[38;5;241m.\u001b[39marray([[cos_a, sin_a, \u001b[38;5;241m-\u001b[39mcenter \u001b[38;5;241m*\u001b[39m (cos_a \u001b[38;5;241m+\u001b[39m sin_a \u001b[38;5;241m-\u001b[39m \u001b[38;5;241m1\u001b[39m)],\n\u001b[0;32m    103\u001b[0m                   [\u001b[38;5;241m-\u001b[39msin_a, cos_a, \u001b[38;5;241m-\u001b[39mcenter \u001b[38;5;241m*\u001b[39m (cos_a \u001b[38;5;241m-\u001b[39m sin_a \u001b[38;5;241m-\u001b[39m \u001b[38;5;241m1\u001b[39m)],\n\u001b[0;32m    104\u001b[0m                   [\u001b[38;5;241m0\u001b[39m, \u001b[38;5;241m0\u001b[39m, \u001b[38;5;241m1\u001b[39m]])\n\u001b[1;32m--> 105\u001b[0m     rotated \u001b[38;5;241m=\u001b[39m \u001b[43mwarp\u001b[49m\u001b[43m(\u001b[49m\u001b[43mpadded_image\u001b[49m\u001b[43m,\u001b[49m\u001b[43m \u001b[49m\u001b[43mR\u001b[49m\u001b[43m,\u001b[49m\u001b[43m \u001b[49m\u001b[43mclip\u001b[49m\u001b[38;5;241;43m=\u001b[39;49m\u001b[38;5;28;43;01mFalse\u001b[39;49;00m\u001b[43m)\u001b[49m\n\u001b[0;32m    106\u001b[0m     radon_image[:, i] \u001b[38;5;241m=\u001b[39m rotated\u001b[38;5;241m.\u001b[39msum(\u001b[38;5;241m0\u001b[39m)\n\u001b[0;32m    107\u001b[0m \u001b[38;5;28;01mreturn\u001b[39;00m radon_image\n",
      "File \u001b[1;32m~\\AppData\\Local\\miniconda3\\lib\\site-packages\\skimage\\transform\\_warps.py:891\u001b[0m, in \u001b[0;36mwarp\u001b[1;34m(image, inverse_map, map_args, output_shape, order, mode, cval, clip, preserve_range)\u001b[0m\n\u001b[0;32m    888\u001b[0m     matrix \u001b[38;5;241m=\u001b[39m np\u001b[38;5;241m.\u001b[39mlinalg\u001b[38;5;241m.\u001b[39minv(inverse_map\u001b[38;5;241m.\u001b[39m\u001b[38;5;18m__self__\u001b[39m\u001b[38;5;241m.\u001b[39mparams)\n\u001b[0;32m    890\u001b[0m \u001b[38;5;28;01mif\u001b[39;00m matrix \u001b[38;5;129;01mis\u001b[39;00m \u001b[38;5;129;01mnot\u001b[39;00m \u001b[38;5;28;01mNone\u001b[39;00m:\n\u001b[1;32m--> 891\u001b[0m     matrix \u001b[38;5;241m=\u001b[39m \u001b[43mmatrix\u001b[49m\u001b[38;5;241;43m.\u001b[39;49m\u001b[43mastype\u001b[49m\u001b[43m(\u001b[49m\u001b[43mimage\u001b[49m\u001b[38;5;241;43m.\u001b[39;49m\u001b[43mdtype\u001b[49m\u001b[43m)\u001b[49m\n\u001b[0;32m    892\u001b[0m     ctype \u001b[38;5;241m=\u001b[39m \u001b[38;5;124m'\u001b[39m\u001b[38;5;124mfloat32_t\u001b[39m\u001b[38;5;124m'\u001b[39m \u001b[38;5;28;01mif\u001b[39;00m image\u001b[38;5;241m.\u001b[39mdtype \u001b[38;5;241m==\u001b[39m np\u001b[38;5;241m.\u001b[39mfloat32 \u001b[38;5;28;01melse\u001b[39;00m \u001b[38;5;124m'\u001b[39m\u001b[38;5;124mfloat64_t\u001b[39m\u001b[38;5;124m'\u001b[39m\n\u001b[0;32m    893\u001b[0m     \u001b[38;5;28;01mif\u001b[39;00m image\u001b[38;5;241m.\u001b[39mndim \u001b[38;5;241m==\u001b[39m \u001b[38;5;241m2\u001b[39m:\n",
      "\u001b[1;31mKeyboardInterrupt\u001b[0m: "
     ]
    }
   ],
   "source": [
    "x_opt = ski.transform.resize(ski.data.shepp_logan_phantom(), (100,100))\n",
    "theta = np.linspace(0,180, endpoint= False, num=100)\n",
    "\n",
    "def radon(x):\n",
    "    return ski.transform.radon(x, theta)/x.shape[-1]\n",
    "\n",
    "def radon_adjoint(y):\n",
    "    return ski.transform.iradon(y,theta,filter_name=None) / (y.shape[-2]*np.pi/(2 * len(theta)))\n",
    "\n",
    "y = radon(x_opt) + np.random.normal(loc = 0, scale= 0.01, size = [100,100])\n",
    " \n",
    "approx = []\n",
    "for lamda in range(10):\n",
    "    approx.append(ista(y, radon, radon_adjoint, soft_shrinkage, t=0.0003, lamda = lamda+1, iter = 50))\n"
   ]
  },
  {
   "cell_type": "code",
   "execution_count": null,
   "metadata": {},
   "outputs": [],
   "source": [
    "def plot_lamda(idx):\n",
    "    \n",
    "    fig = plt.figure()\n",
    "    plt.imshow(approx[idx])\n",
    "\n",
    "\n",
    "slider = widgets.IntSlider(min = 0, max = 9, step = 1, value = 0, continuous_update = True)\n",
    "interactive_plot = interactive(plot_lamda, idx = slider)\n",
    "display(interactive_plot)"
   ]
  },
  {
   "cell_type": "code",
   "execution_count": null,
   "metadata": {},
   "outputs": [],
   "source": [
    "plt.imshow(ski.transform.iradon(y,theta))\n",
    "plt.figure()\n",
    "plt.imshow(approx)"
   ]
  },
  {
   "cell_type": "code",
   "execution_count": null,
   "metadata": {},
   "outputs": [],
   "source": [
    "alpha = 3\n",
    "x = np.linspace(-10,10,num=100)\n",
    "prox_x = soft_shrinkage(x, alpha)\n",
    "plt.plot(x, prox_x)"
   ]
  },
  {
   "cell_type": "code",
   "execution_count": null,
   "metadata": {},
   "outputs": [],
   "source": []
  }
 ],
 "metadata": {
  "kernelspec": {
   "display_name": "Python 3 (ipykernel)",
   "language": "python",
   "name": "python3"
  },
  "language_info": {
   "codemirror_mode": {
    "name": "ipython",
    "version": 3
   },
   "file_extension": ".py",
   "mimetype": "text/x-python",
   "name": "python",
   "nbconvert_exporter": "python",
   "pygments_lexer": "ipython3",
   "version": "3.10.10"
  }
 },
 "nbformat": 4,
 "nbformat_minor": 4
}
