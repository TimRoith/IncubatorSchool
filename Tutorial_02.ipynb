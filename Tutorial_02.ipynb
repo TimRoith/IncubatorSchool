{
 "cells": [
  {
   "cell_type": "markdown",
   "metadata": {},
   "source": [
    "# Part II: Model-based Regularization\n",
    "\n",
    "We now want to solve the problem\n",
    "\n",
    "$$ \\min_{u} \\frac{1}{2}\\|Au - k\\|^2 + \\operatorname{TV}(u)$$\n",
    "\n",
    "where $TV:?\\to ?$ is defined as\n",
    "\n",
    "Becaus hard solve this that\n",
    "\n",
    "$$\n",
    "\\min_{u}\n",
    "\\Big[\\max_{y} \\langle Au - k_t, y  \\rangle - \\frac{1}{2} \\|y\\|^2 \\big] +\n",
    "\\Big[\n",
    "\\max_{z} \\langle \\nabla u, z \\rangle - \\chi_{B^\\infty_\\lambda}(z)\n",
    "\\Big]\n",
    "$$\n",
    "\n",
    "Employing forward-backward splitting for $u,y,z$ yields the update\n",
    "\n",
    "$$\n",
    "\\begin{align*}\n",
    "y \\gets \\frac{1}{1+\\sigma}y + \\frac{\\sigma}{1+\\sigma}(Au  -k_t )\\\\\n",
    "z \\gets \\operatorname{proj}_{B^\\infty_\\lambda}\\left( z + \\sigma\\nabla u\\right)\\\\\n",
    "u^-\\gets u\\\\\n",
    "u\\gets u - \\tau (A^Ty - \\operatorname{div}(z))\n",
    "\\end{align*}\n",
    "$$\n",
    "\n",
    "Additionally we perform an overrelaxation step for $u$, \n",
    "\n",
    "$$\n",
    "u\\gets 2 u - u^-.\n",
    "$$"
   ]
  },
  {
   "cell_type": "code",
   "execution_count": 1,
   "metadata": {},
   "outputs": [],
   "source": [
    "import skimage as ski\n",
    "import numpy as np\n",
    "\n",
    "num_theta = 150\n",
    "dim = 150\n",
    "noise_lvl = 0.01 * dim\n",
    "phantom = ski.img_as_float(ski.data.shepp_logan_phantom())\n",
    "phantom = ski.transform.resize(phantom, (dim, dim))\n",
    "theta = np.linspace(0,180, endpoint = False, num=num_theta)\n",
    "sinogram =  ski.transform.radon(phantom, theta)\n",
    "sinogram += np.random.normal(0, noise_lvl, size=sinogram.shape)"
   ]
  },
  {
   "cell_type": "code",
   "execution_count": 2,
   "metadata": {
    "scrolled": true
   },
   "outputs": [],
   "source": [
    "from optimizer import pdhg, imgrad, imdiv\n",
    "from optimizer import lifted_variable as lv\n",
    "\n",
    "class Radon:\n",
    "    def __call__(self, u):\n",
    "        return ski.transform.radon(u, theta)*(np.pi/(2 * num_theta))\n",
    "    \n",
    "    def adjoint(self, k):\n",
    "        return ski.transform.iradon(k, theta, filter_name=None)\n",
    "\n",
    "class Grad:\n",
    "    def __call__(self, u):\n",
    "        return imgrad(u)\n",
    "\n",
    "    def adjoint(self, p):\n",
    "        return -imdiv(p)\n",
    "\n",
    "class A:\n",
    "    def __init__(self,):\n",
    "        self.radon = Radon()\n",
    "        self.grad = Grad()\n",
    "\n",
    "    def __call__(self, u):\n",
    "        return lv([self.radon(u), self.grad(u)])\n",
    "\n",
    "    def adjoint(self, p):\n",
    "        return self.radon.adjoint(p[0]) + self.grad.adjoint(p[1])\n",
    "\n",
    "\n",
    "alpha = 1.0/(np.prod(phantom.shape[-2:]))\n",
    "lamda = .5\n",
    "\n",
    "if lamda > 0.:\n",
    "    def prox_fconj(p, sigma):\n",
    "        p_0 = alpha/(alpha + sigma) * p[0] - (sigma * alpha)/(alpha + sigma) * sinogram\n",
    "        p_1 = lamda * p[1] / np.maximum(1, np.linalg.norm(p[1], axis=0)/lamda)[None,...] # projection on L-inf ball\n",
    "        return lv([p_0, p_1])\n",
    "else:\n",
    "    def prox_fconj(p, sigma):\n",
    "        p_0 = alpha/(alpha + sigma) * p[0] - (sigma * alpha)/(alpha + sigma) * sinogram\n",
    "        p_1 = 0 * p[1]\n",
    "        return lv([p_0, p_1])\n",
    "\n",
    "\n",
    "def energy_fun(A, u):\n",
    "    Au = A(u)\n",
    "    return (alpha/2) * np.linalg.norm(Au[0] - sinogram)**2 + lamda * np.sum(np.abs(Au[1]))\n",
    "\n",
    "\n",
    "x0 = ski.transform.iradon(sinogram, theta=theta)\n",
    "#x0 = np.zeros_like(phantom)\n",
    "y0 = A()(x0)\n",
    "\n",
    "tau = 0.001\n",
    "sigma = 0.01\n",
    "\n",
    "n_iter = 200\n",
    "#prox_fconj"
   ]
  },
  {
   "cell_type": "code",
   "execution_count": 3,
   "metadata": {},
   "outputs": [],
   "source": [
    "from optimizer import lscg\n",
    "\n",
    "def soft_shrinkage(x, lamda):\n",
    "    return np.maximum(np.abs(x)-lamda, 0.) * np.sign(x)\n",
    "\n",
    "class split_Bregman_TV:\n",
    "    def __init__(self, A, rhs, u0, gamma=1.0, max_it=10, verbosity = 1):\n",
    "        self.A = A\n",
    "        self.gamma = gamma\n",
    "        self.num_it = 0\n",
    "        self.max_it = max_it\n",
    "        self.verbosity = verbosity\n",
    "        \n",
    "        class cg_op:\n",
    "            def __call__(self, u):\n",
    "                return lv([gamma * A(u), 0.5 * imgrad(u)])\n",
    "\n",
    "            def adjoint(self, p):\n",
    "                return gamma * A.adjoint(p[0]) - 0.5 * imdiv(p[1])\n",
    "\n",
    "        self.cg_op = cg_op()\n",
    "        self.rhs = rhs\n",
    "\n",
    "        self.u = u0\n",
    "        self.b = imgrad(u0)\n",
    "        self.d = soft_shrinkage(self.b + imgrad(self.u), self.gamma)\n",
    "\n",
    "    def step(self):\n",
    "        cg_rhs = lv([self.gamma * self.rhs, 0.5 * (self.d - self.b)])\n",
    "        self.u = lscg(self.cg_op, cg_rhs, self.u).solve()\n",
    "        self.d = soft_shrinkage(self.b + imgrad(self.u), self.gamma)\n",
    "        self.b = self.b + imgrad(self.u) - self.d\n",
    "\n",
    "    def terminate(self):\n",
    "        if self.num_it > self.max_it:\n",
    "            return True\n",
    "        else:\n",
    "            return False\n",
    "\n",
    "    def solve(self,):\n",
    "        while not self.terminate():\n",
    "            self.step()\n",
    "            if self.verbosity > 0:\n",
    "                print('Iteration: ' + str(self.num_it))\n",
    "        "
   ]
  },
  {
   "cell_type": "code",
   "execution_count": 4,
   "metadata": {},
   "outputs": [
    {
     "name": "stderr",
     "output_type": "stream",
     "text": [
      "C:\\Users\\roithtim\\AppData\\Local\\miniconda3\\lib\\site-packages\\skimage\\transform\\radon_transform.py:75: UserWarning: Radon transform: image must be zero outside the reconstruction circle\n",
      "  warn('Radon transform: image must be zero outside the '\n"
     ]
    },
    {
     "ename": "ValueError",
     "evalue": "setting an array element with a sequence. The requested array has an inhomogeneous shape after 1 dimensions. The detected shape was (2,) + inhomogeneous part.",
     "output_type": "error",
     "traceback": [
      "\u001b[1;31m---------------------------------------------------------------------------\u001b[0m",
      "\u001b[1;31mValueError\u001b[0m                                Traceback (most recent call last)",
      "Cell \u001b[1;32mIn[4], line 2\u001b[0m\n\u001b[0;32m      1\u001b[0m sBTV \u001b[38;5;241m=\u001b[39m split_Bregman_TV(Radon(), sinogram, x0)\n\u001b[1;32m----> 2\u001b[0m \u001b[43msBTV\u001b[49m\u001b[38;5;241;43m.\u001b[39;49m\u001b[43msolve\u001b[49m\u001b[43m(\u001b[49m\u001b[43m)\u001b[49m\n",
      "Cell \u001b[1;32mIn[3], line 42\u001b[0m, in \u001b[0;36msplit_Bregman_TV.solve\u001b[1;34m(self)\u001b[0m\n\u001b[0;32m     40\u001b[0m \u001b[38;5;28;01mdef\u001b[39;00m \u001b[38;5;21msolve\u001b[39m(\u001b[38;5;28mself\u001b[39m,):\n\u001b[0;32m     41\u001b[0m     \u001b[38;5;28;01mwhile\u001b[39;00m \u001b[38;5;129;01mnot\u001b[39;00m \u001b[38;5;28mself\u001b[39m\u001b[38;5;241m.\u001b[39mterminate():\n\u001b[1;32m---> 42\u001b[0m         \u001b[38;5;28;43mself\u001b[39;49m\u001b[38;5;241;43m.\u001b[39;49m\u001b[43mstep\u001b[49m\u001b[43m(\u001b[49m\u001b[43m)\u001b[49m\n\u001b[0;32m     43\u001b[0m         \u001b[38;5;28;01mif\u001b[39;00m \u001b[38;5;28mself\u001b[39m\u001b[38;5;241m.\u001b[39mverbosity \u001b[38;5;241m>\u001b[39m \u001b[38;5;241m0\u001b[39m:\n\u001b[0;32m     44\u001b[0m             \u001b[38;5;28mprint\u001b[39m(\u001b[38;5;124m'\u001b[39m\u001b[38;5;124mIteration: \u001b[39m\u001b[38;5;124m'\u001b[39m \u001b[38;5;241m+\u001b[39m \u001b[38;5;28mstr\u001b[39m(\u001b[38;5;28mself\u001b[39m\u001b[38;5;241m.\u001b[39mnum_it))\n",
      "Cell \u001b[1;32mIn[3], line 30\u001b[0m, in \u001b[0;36msplit_Bregman_TV.step\u001b[1;34m(self)\u001b[0m\n\u001b[0;32m     28\u001b[0m \u001b[38;5;28;01mdef\u001b[39;00m \u001b[38;5;21mstep\u001b[39m(\u001b[38;5;28mself\u001b[39m):\n\u001b[0;32m     29\u001b[0m     cg_rhs \u001b[38;5;241m=\u001b[39m lv([\u001b[38;5;28mself\u001b[39m\u001b[38;5;241m.\u001b[39mgamma \u001b[38;5;241m*\u001b[39m \u001b[38;5;28mself\u001b[39m\u001b[38;5;241m.\u001b[39mrhs, \u001b[38;5;241m0.5\u001b[39m \u001b[38;5;241m*\u001b[39m (\u001b[38;5;28mself\u001b[39m\u001b[38;5;241m.\u001b[39md \u001b[38;5;241m-\u001b[39m \u001b[38;5;28mself\u001b[39m\u001b[38;5;241m.\u001b[39mb)])\n\u001b[1;32m---> 30\u001b[0m     \u001b[38;5;28mself\u001b[39m\u001b[38;5;241m.\u001b[39mu \u001b[38;5;241m=\u001b[39m \u001b[43mlscg\u001b[49m\u001b[43m(\u001b[49m\u001b[38;5;28;43mself\u001b[39;49m\u001b[38;5;241;43m.\u001b[39;49m\u001b[43mcg_op\u001b[49m\u001b[43m,\u001b[49m\u001b[43m \u001b[49m\u001b[43mcg_rhs\u001b[49m\u001b[43m,\u001b[49m\u001b[43m \u001b[49m\u001b[38;5;28;43mself\u001b[39;49m\u001b[38;5;241;43m.\u001b[39;49m\u001b[43mu\u001b[49m\u001b[43m)\u001b[49m\u001b[38;5;241;43m.\u001b[39;49m\u001b[43msolve\u001b[49m\u001b[43m(\u001b[49m\u001b[43m)\u001b[49m\n\u001b[0;32m     31\u001b[0m     \u001b[38;5;28mself\u001b[39m\u001b[38;5;241m.\u001b[39md \u001b[38;5;241m=\u001b[39m soft_shrinkage(\u001b[38;5;28mself\u001b[39m\u001b[38;5;241m.\u001b[39mb \u001b[38;5;241m+\u001b[39m imgrad(\u001b[38;5;28mself\u001b[39m\u001b[38;5;241m.\u001b[39mu), \u001b[38;5;28mself\u001b[39m\u001b[38;5;241m.\u001b[39mgamma)\n\u001b[0;32m     32\u001b[0m     \u001b[38;5;28mself\u001b[39m\u001b[38;5;241m.\u001b[39mb \u001b[38;5;241m=\u001b[39m \u001b[38;5;28mself\u001b[39m\u001b[38;5;241m.\u001b[39mb \u001b[38;5;241m+\u001b[39m imgrad(\u001b[38;5;28mself\u001b[39m\u001b[38;5;241m.\u001b[39mu) \u001b[38;5;241m-\u001b[39m \u001b[38;5;28mself\u001b[39m\u001b[38;5;241m.\u001b[39md\n",
      "File \u001b[1;32mC:\\Roith\\Projects\\IncubatorSchool\\optimizer.py:122\u001b[0m, in \u001b[0;36mlscg.solve\u001b[1;34m(self)\u001b[0m\n\u001b[0;32m    120\u001b[0m \u001b[38;5;28;01mdef\u001b[39;00m \u001b[38;5;21msolve\u001b[39m(\u001b[38;5;28mself\u001b[39m):\n\u001b[0;32m    121\u001b[0m     \u001b[38;5;28;01mwhile\u001b[39;00m \u001b[38;5;129;01mnot\u001b[39;00m \u001b[38;5;28mself\u001b[39m\u001b[38;5;241m.\u001b[39mterminate():\n\u001b[1;32m--> 122\u001b[0m         \u001b[38;5;28;43mself\u001b[39;49m\u001b[38;5;241;43m.\u001b[39;49m\u001b[43mstep\u001b[49m\u001b[43m(\u001b[49m\u001b[43m)\u001b[49m\n",
      "File \u001b[1;32mC:\\Roith\\Projects\\IncubatorSchool\\optimizer.py:106\u001b[0m, in \u001b[0;36mlscg.step\u001b[1;34m(self)\u001b[0m\n\u001b[0;32m    104\u001b[0m alpha \u001b[38;5;241m=\u001b[39m \u001b[38;5;28mself\u001b[39m\u001b[38;5;241m.\u001b[39mgg \u001b[38;5;241m/\u001b[39m Ap\u001b[38;5;241m.\u001b[39mnorm()\u001b[38;5;241m*\u001b[39m\u001b[38;5;241m*\u001b[39m\u001b[38;5;241m2\u001b[39m\n\u001b[0;32m    105\u001b[0m \u001b[38;5;28mself\u001b[39m\u001b[38;5;241m.\u001b[39mu \u001b[38;5;241m=\u001b[39m \u001b[38;5;28mself\u001b[39m\u001b[38;5;241m.\u001b[39mu \u001b[38;5;241m+\u001b[39m alpha \u001b[38;5;241m*\u001b[39m \u001b[38;5;28mself\u001b[39m\u001b[38;5;241m.\u001b[39mp\n\u001b[1;32m--> 106\u001b[0m \u001b[38;5;28mself\u001b[39m\u001b[38;5;241m.\u001b[39mr \u001b[38;5;241m=\u001b[39m \u001b[38;5;28mself\u001b[39m\u001b[38;5;241m.\u001b[39mr \u001b[38;5;241m-\u001b[39m \u001b[43malpha\u001b[49m\u001b[43m \u001b[49m\u001b[38;5;241;43m*\u001b[39;49m\u001b[43m \u001b[49m\u001b[43mAp\u001b[49m\n\u001b[0;32m    107\u001b[0m \u001b[38;5;28mself\u001b[39m\u001b[38;5;241m.\u001b[39mg \u001b[38;5;241m=\u001b[39m \u001b[38;5;28mself\u001b[39m\u001b[38;5;241m.\u001b[39mA\u001b[38;5;241m.\u001b[39madjoint(\u001b[38;5;28mself\u001b[39m\u001b[38;5;241m.\u001b[39mr)\n\u001b[0;32m    108\u001b[0m \u001b[38;5;28mself\u001b[39m\u001b[38;5;241m.\u001b[39mgg_old \u001b[38;5;241m=\u001b[39m \u001b[38;5;28mself\u001b[39m\u001b[38;5;241m.\u001b[39mgg\n",
      "\u001b[1;31mValueError\u001b[0m: setting an array element with a sequence. The requested array has an inhomogeneous shape after 1 dimensions. The detected shape was (2,) + inhomogeneous part."
     ]
    }
   ],
   "source": [
    "sBTV = split_Bregman_TV(Radon(), sinogram, x0)\n",
    "sBTV.solve()"
   ]
  },
  {
   "cell_type": "code",
   "execution_count": null,
   "metadata": {},
   "outputs": [],
   "source": [
    "\n",
    "opt = pdhg(x0=x0, y0=y0, K=A(), prox_fconj=prox_fconj, tau=tau, sigma=sigma, n_iter=n_iter, energy_fun = energy_fun)\n",
    "res = opt.compute()"
   ]
  },
  {
   "cell_type": "code",
   "execution_count": null,
   "metadata": {},
   "outputs": [],
   "source": [
    "import matplotlib.pyplot as plt\n",
    "\n",
    "fig, ax = plt.subplots(1,2)\n",
    "im = ax[0].imshow(opt.x)\n",
    "plt.colorbar(im, ax=ax[0])\n",
    "ax[1].plot(opt.energy_hist)"
   ]
  },
  {
   "cell_type": "code",
   "execution_count": null,
   "metadata": {},
   "outputs": [],
   "source": [
    "plt.imshow(x0)\n",
    "plt.colorbar()"
   ]
  },
  {
   "cell_type": "code",
   "execution_count": null,
   "metadata": {},
   "outputs": [],
   "source": [
    "def test_adjoint(A, x, y=None):\n",
    "    Ax = A(x)\n",
    "    if y is None:\n",
    "        y = np.random.uniform(size=Ax.shape)\n",
    "    res_1 = np.sum(Ax * y)\n",
    "    res_2 = np.sum(x * A.adjoint(y))\n",
    "    return res_1, res_2\n"
   ]
  },
  {
   "cell_type": "code",
   "execution_count": null,
   "metadata": {},
   "outputs": [],
   "source": [
    "res_1, res_2 = test_adjoint(Grad(), phantom)\n",
    "\n",
    "print(res_1)\n",
    "print(res_2)\n",
    "print((res_2/res_1))"
   ]
  },
  {
   "cell_type": "code",
   "execution_count": null,
   "metadata": {},
   "outputs": [],
   "source": [
    "A = np.random.uniform(size = (20,20))\n",
    "\n",
    "class B:\n",
    "    def __call__(self, x):\n",
    "        return A@x\n",
    "\n",
    "    def adjoint(self,y):\n",
    "        return A.T@y"
   ]
  },
  {
   "cell_type": "code",
   "execution_count": null,
   "metadata": {},
   "outputs": [],
   "source": [
    "test_adjoint(B(), np.random.uniform(size=(20)))"
   ]
  },
  {
   "cell_type": "code",
   "execution_count": null,
   "metadata": {},
   "outputs": [],
   "source": []
  },
  {
   "cell_type": "code",
   "execution_count": null,
   "metadata": {},
   "outputs": [],
   "source": [
    "np.pi*np.sqrt(0.5)*3"
   ]
  },
  {
   "cell_type": "code",
   "execution_count": null,
   "metadata": {},
   "outputs": [],
   "source": []
  }
 ],
 "metadata": {
  "kernelspec": {
   "display_name": "Python 3 (ipykernel)",
   "language": "python",
   "name": "python3"
  },
  "language_info": {
   "codemirror_mode": {
    "name": "ipython",
    "version": 3
   },
   "file_extension": ".py",
   "mimetype": "text/x-python",
   "name": "python",
   "nbconvert_exporter": "python",
   "pygments_lexer": "ipython3",
   "version": "3.10.10"
  }
 },
 "nbformat": 4,
 "nbformat_minor": 4
}
