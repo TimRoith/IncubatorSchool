{
 "cells": [
  {
   "cell_type": "markdown",
   "metadata": {},
   "source": [
    "# Part I: Introduction to Inverse Problems\n",
    "\n",
    "Welcome to the tutorial to the course **\"Regularization in Image Reconstruction: From Model to Data Driven Methods\"**! ☀\n",
    "\n",
    "Image reconstruction is a so-called inverse problem where we want to reconstruct an image from some (noisy) measurement data.\n",
    "\n",
    "In the first part, we will fix the notation of our inverse problem, see some typical applications and find out what can go wrong with a naive inversion. "
   ]
  },
  {
   "cell_type": "markdown",
   "metadata": {},
   "source": [
    "## Notation\n",
    "Each inverse problem is connected to a forward problem. The forward problems we will look at can be described by a **linear forward operator** $A$ that maps the **ground truth data** $x$ to a **measurement** $y^{\\delta}$ which is additionally corrupted by some unknown **noise $\\epsilon$**. We thus write \n",
    "$$y^{\\delta} = Ax + \\epsilon.$$\n",
    "The subscript $\\delta$ indicates that the noise $\\epsilon$ is bounded by a **noise level** $\\delta > 0$ in some way. We will bound the norm of the noise like\n",
    "$$ \\| \\epsilon \\| \\leq \\delta.$$"
   ]
  },
  {
   "cell_type": "markdown",
   "metadata": {},
   "source": [
    "## Examples\n",
    "\n",
    "Before we start with the hands on examples, we have to import some basic Python packages and load our first example image: a modern version of the famous cameraman."
   ]
  },
  {
   "cell_type": "code",
   "execution_count": null,
   "metadata": {},
   "outputs": [],
   "source": [
    "import numpy as np\n",
    "import skimage as ski\n",
    "import matplotlib.pyplot as plt\n",
    "import ipywidgets as widgets\n",
    "from ipywidgets import interactive\n",
    "from IPython.display import display\n",
    "import operators # the operator package is a custom package which contains all the operators we will need for this tutorial"
   ]
  },
  {
   "cell_type": "code",
   "execution_count": null,
   "metadata": {},
   "outputs": [],
   "source": [
    "img = ski.img_as_float(ski.data.camera())\n",
    "plt.imshow(img, cmap='gray')\n",
    "plt.colorbar()"
   ]
  },
  {
   "cell_type": "markdown",
   "metadata": {},
   "source": [
    "### <span style=\"color:cornflowerblue\"> Example 1:  Color Negation </span>\n",
    "Looking at the colorbar next to the image we see that its grey values are included in the interval $[0,1]$. We can produce the so-called **negative image** by negating its grey values."
   ]
  },
  {
   "cell_type": "code",
   "execution_count": null,
   "metadata": {},
   "outputs": [],
   "source": [
    "# forward operator for color negation\n",
    "def negate_colors(img):\n",
    "    return -img\n",
    "\n",
    "# compute the negative image of our example image\n",
    "negative = negate_colors(img)\n",
    "\n",
    "plt.imshow(negative, cmap='gray')\n",
    "plt.colorbar()"
   ]
  },
  {
   "cell_type": "markdown",
   "metadata": {
    "jp-MarkdownHeadingCollapsed": true
   },
   "source": [
    "### &#128221; <span style=\"color:darkorange\">Task 1.1</span>\n",
    "#### Which forward operator $A$ describes the color negation problem?"
   ]
  },
  {
   "cell_type": "markdown",
   "metadata": {},
   "source": [
    "### &#128221; <span style=\"color:darkorange\">Task 1.2</span>\n",
    "#### Complete the following function which inverts the color negation, i.e., takes a negative image as an input and returns the corresponding positive image."
   ]
  },
  {
   "cell_type": "code",
   "execution_count": null,
   "metadata": {},
   "outputs": [],
   "source": [
    "def invert_color_negation(negative):\n",
    "    positive = None #TODO [subsitute \"None\" by your own code] \n",
    "    return positive"
   ]
  },
  {
   "cell_type": "markdown",
   "metadata": {},
   "source": [
    "#### Let's see if it works:"
   ]
  },
  {
   "cell_type": "code",
   "execution_count": null,
   "metadata": {
    "scrolled": true
   },
   "outputs": [],
   "source": [
    "positive = invert_color_negation(negative)\n",
    "\n",
    "plt.imshow(positive, cmap='gray')\n",
    "plt.colorbar()"
   ]
  },
  {
   "cell_type": "markdown",
   "metadata": {},
   "source": [
    "### <span style=\"color:cornflowerblue\"> Example 2:  Computed Tomography </span>"
   ]
  },
  {
   "cell_type": "markdown",
   "metadata": {},
   "source": [
    "Computed Tomography scans are a popular way to obtain internal images of the body. Roughly speaking, it works by sending X-rays through the body from different directions. While travelling through the body, the X-rays are damped depending on the densities of the materials they pass through. This intensity decay is then measured on the opposite side of the body. The collection of all measurements is called **sinogram**. \n",
    "\n",
    "The linear operator that is used to describe the scan is called the Radon Transform and was studied by Johann Radon way before it was used in practice!\n",
    "\n",
    "Let's look at an exemplary CT scan of the [Shepp-Logan phantom](https://en.wikipedia.org/wiki/Shepp–Logan_phantom)!"
   ]
  },
  {
   "cell_type": "code",
   "execution_count": null,
   "metadata": {},
   "outputs": [],
   "source": [
    "\n",
    "phantom = ski.img_as_float(ski.data.shepp_logan_phantom())\n",
    "theta = np.linspace(0,180, endpoint = False, num=400)\n",
    "R = operators.Radon(theta)\n",
    "sinogram =  R(phantom)\n",
    "ray_pos = np.arange(20, 400, step=40)\n",
    "\n",
    "def plot_at_angle(angle):\n",
    "    deg = 180/400*angle\n",
    "    fig, axs = plt.subplots(1, 3, figsize=(20,5))\n",
    "    rot = ski.transform.rotate(phantom, deg)\n",
    "    rot[:,ray_pos] = 0.5\n",
    "    rot[:,ray_pos+1] = 1\n",
    "    rot[:,ray_pos+2] = 0.5\n",
    "    projection = sinogram[:,angle]\n",
    "    sino = sinogram[:,:angle+1]\n",
    "    axs[0].imshow(rot, cmap = 'gray');\n",
    "    axs[0].tick_params(bottom = False, left = False)\n",
    "    axs[0].set_xticks([])\n",
    "    axs[0].set_yticks([])\n",
    "    axs[0].set_title('Source')\n",
    "    axs[0].set_xlabel('Detector')\n",
    "    axs[1].plot(np.arange(400), projection);\n",
    "    axs[1].set_ylim([0,0.4]);\n",
    "    axs[1].set_title('Measurement at '+str(deg)+'$^{\\circ}$')\n",
    "    axs[1].set_xlabel('position')\n",
    "    axs[1].set_ylabel('intensity decay')\n",
    "    axs[2].imshow(sino, cmap = 'gray');\n",
    "    axs[2].set_xlim([0,400])\n",
    "    axs[2].set_xticks([0,100,200,300,400], ['$0^{\\circ}$', '$45^{\\circ}$', '$90^{\\circ}$', '$135^{\\circ}$', '$180^{\\circ}$'])\n",
    "    axs[2].set_xlabel('angle')\n",
    "    axs[2].set_ylabel('position')\n",
    "    \n",
    "    \n",
    "\n",
    "slider = widgets.IntSlider(min = 0, max = 399, step = 10, value = 0, continuous_update = True)\n",
    "interactive_plot = interactive(plot_at_angle, angle = slider)\n",
    "display(interactive_plot)"
   ]
  },
  {
   "cell_type": "markdown",
   "metadata": {},
   "source": [
    "## Naive Inversion\n",
    "\n",
    "Recall our problem $y^{\\delta} = Ax + \\epsilon$. Since $\\epsilon$ is small, we could simply ignore it and compute our solution $\\hat{x}$ as\n",
    "$$ \"\\hat{x} = A^{-1} y^{\\delta} \"$$\n",
    "\n",
    "This is already problematic as it can happen that\n",
    "* $A^{-1} y^\\delta$ does not exist: there doesn't exist any ground truth data $x$ that generates the measurement $y^\\delta$.\n",
    "* $A^{-1} y^\\delta$ is not well-defined: there exist multiple $x$ that generate the same measurement $y^\\delta$.\n",
    "\n",
    "However, we can circumvent both of these issues rather easily.\n",
    "Finding a solution can be relaxed by considering all least-squares solutions, i.e., all\n",
    "$$ \\hat{x} \\in \\operatorname{sol} = \\operatorname*{arg \\ min}_{x} \\{\\|Ax- y^\\delta\\|^2 \\}.$$\n",
    "If the set of least-squares solutions contains more than one element, we choose the solution which is optimal in some sense, for example the minimum norm solution $x^*$, i.e.,\n",
    "$$ x^* = \\operatorname*{arg\\ min}_{\\hat{x} \\in \\operatorname{sol}} \\{\\|\\hat{x}\\|^2\\}. $$\n"
   ]
  },
  {
   "cell_type": "markdown",
   "metadata": {},
   "source": [
    "### Null-space Problems\n",
    "We will call the problem of deciding which solution to choose a **null-space problem**. The minimum norm solution might not be ideal for all applications. Let's see what it looks like for limited angle CT. "
   ]
  },
  {
   "cell_type": "code",
   "execution_count": null,
   "metadata": {},
   "outputs": [],
   "source": [
    "def plot_lact(idx):\n",
    "    angle = 399-idx\n",
    "    deg = 180/400*angle\n",
    "    lact_sino = sinogram[:,:angle+1]\n",
    "    R_lact = operators.Radon(theta[:angle+1])\n",
    "    reco = R_lact.inv(lact_sino)\n",
    "    fig, axs = plt.subplots(1, 2, figsize=(15,5))\n",
    "    axs[0].imshow(lact_sino, cmap='gray')\n",
    "    axs[0].set_xlim([0,400])\n",
    "    axs[0].set_xticks([0,100,200,300,400], ['$0^{\\circ}$', '$45^{\\circ}$', '$90^{\\circ}$', '$135^{\\circ}$', '$180^{\\circ}$'])\n",
    "    axs[0].set_xlabel('angle')\n",
    "    axs[0].set_ylabel('position')\n",
    "    axs[0].set_title('Sinogram of a scan of '+str(deg)+ ' degrees')\n",
    "    axs[1].imshow(reco, cmap='gray')\n",
    "    axs[1].axis('off')\n",
    "    axs[1].set_title('Reconstruction')\n",
    "\n",
    "slider2 = widgets.IntSlider(min = 0, max = 399, step = 30, value = 0, continuous_update = True)\n",
    "interactive_plot2 = interactive(plot_lact, idx = slider2)\n",
    "display(interactive_plot2)"
   ]
  },
  {
   "cell_type": "markdown",
   "metadata": {},
   "source": [
    "### Instability\n",
    "Another, more subtle problem is **instability**. The solution operator is called instable if small measurements errors cause incontrollably large reconstruction errors. The decision if the reconstruction error is controllable or not is not obvious: Once a problem is described in fixed finite dimensions (i.e., discretized) all linear reconstruction operators are continuous and thus mathematically stable by definition. The instability will only show if we try to generalize the same reconstruction approach to different dimensions."
   ]
  },
  {
   "cell_type": "markdown",
   "metadata": {},
   "source": [
    "### &#128221; <span style=\"color:darkorange\"> Task 1.3</span>\n",
    "#### Complete the following script that computes the reconstruction error for several noisy measurements in different dimensions for both, color negation and computed tomography.\n",
    "To save time, you can try it out for 'dims=[200]' first until everything runs without errors and then change it back to 'dims = [200, 300, 400, 500, 600, 700, 800]'"
   ]
  },
  {
   "cell_type": "code",
   "execution_count": null,
   "metadata": {},
   "outputs": [],
   "source": [
    "dims = [200, 300, 400, 500, 600, 700, 800]\n",
    "\n",
    "# store all results for visualization:\n",
    "negatives_noisy = [] # list to collect noisy negatives\n",
    "img_recos = [] # list to collect image reconstructions\n",
    "img_err = np.zeros(len(dims)) # array to store the reconstruction errors for the color negation problem\n",
    "\n",
    "sinograms_noisy = [] # list to collect noisy sinograms\n",
    "phantom_recos = [] # list to collect phantom reconstructions\n",
    "phantom_err = np.zeros(len(dims)) # array to store the reconstruction errors for the ct problem\n",
    "\n",
    "for i, dim in enumerate(dims): # iterate over the various dimensions\n",
    "    \n",
    "    epsilon = np.random.normal(scale=0.1, size=(dim,dim))  # generate the same random noise for both problems\n",
    "\n",
    "    #############################################################################################\n",
    "    ############################# COLOR NEGATION PROBLEM ########################################\n",
    "\n",
    "    # generate x, Ax + epsilon and x*\n",
    "    img_res = ski.transform.resize(img, (dim, dim)) # resize the cameraman image (x)\n",
    "\n",
    "    ###### TODO's start here #####\n",
    "\n",
    "    negative_noisy = None #TODO negative_noisy should be the negative corresponding to img_res which is then corrupted by noise 'epsilon' (Ax + epsilon)\n",
    "    img_reco = None #TODO use your function 'invert_color_negation' here to reconstruct the original image from 'negative_noisy' (x*)\n",
    "\n",
    "    ###### TODO's end here #######\n",
    "\n",
    "    # store results\n",
    "    negatives_noisy.append(negative_noisy) # store the noisy negative\n",
    "    img_recos.append(img_reco) # store reconstruction\n",
    "    img_err[i] = np.linalg.norm(img_reco - img_res)/dim # store L2-error\n",
    "\n",
    "    ##############################################################################################\n",
    "    ###################################### CT PROBLEM ############################################\n",
    "\n",
    "    # generate x, Ax + epsilon and x*\n",
    "    phantom_res = ski.transform.resize(phantom, (dim, dim)) # resize the shepp-logan phantom (x)\n",
    "    theta_res = np.linspace(0,180, endpoint = False, num=dim)  # fix the angles that should be used for CT scan\n",
    "    R_res = operators.Radon(theta_res) # generate the Radon operator (A)\n",
    "    \n",
    "    ###### TODO's start here #####\n",
    "    \n",
    "    sinogram_noisy = None #TODO sinogram_noisy should be 'R_res' of 'phantom_res' which is then corrupted by noise 'epsilon' (Ax + epsilon)\n",
    "    phantom_reco = None #TODO use 'R_res.inv' to reconstruct the phantom from 'sinogram_noisy' (x*)\n",
    "    \n",
    "    ###### TODO's end here #######\n",
    "\n",
    "    # store results\n",
    "    sinograms_noisy.append(sinogram_noisy)\n",
    "    phantom_recos.append(phantom_reco)\n",
    "    phantom_err[i] = np.linalg.norm(phantom_reco - phantom_res)/dim\n",
    "\n",
    "    ################################################################################################\n",
    "    ################################################################################################"
   ]
  },
  {
   "cell_type": "markdown",
   "metadata": {},
   "source": [
    "### &#128221; <span style=\"color:darkorange\"> Task 1.4</span>\n",
    "#### Use the following slider (which uses your code from above) to decide if the problems are rather stable or instable."
   ]
  },
  {
   "cell_type": "code",
   "execution_count": null,
   "metadata": {},
   "outputs": [],
   "source": [
    "def plot_resolutions(idx):\n",
    "    \n",
    "    fig = plt.figure(figsize=(16,8))\n",
    "    axs00 = plt.subplot2grid((2,3), (1,0))\n",
    "    axs01 = plt.subplot2grid((2,3), (1,1))\n",
    "    axs10 = plt.subplot2grid((2,3), (0,0))\n",
    "    axs11 = plt.subplot2grid((2,3), (0,1))\n",
    "    axsplot = plt.subplot2grid((2,3), (0,2), rowspan=2)\n",
    "\n",
    "    im00 = axs00.imshow(negatives_noisy[idx], cmap='gray', vmin = -1.5, vmax = 0.5)\n",
    "    axs00.axis('off')\n",
    "    axs00.set_title('Noisy Negative')\n",
    "    plt.colorbar(im00, ax = axs00)\n",
    "    im01 = axs01.imshow(img_recos[idx], cmap='gray', vmin = -0.5, vmax = 1.5)\n",
    "    axs01.axis('off')\n",
    "    axs01.set_title('Reconstructed Image')\n",
    "    plt.colorbar(im01, ax = axs01)\n",
    "\n",
    "    im10 = axs10.imshow(sinograms_noisy[idx], cmap='gray', vmin = -0.5, vmax =0.7)\n",
    "    axs10.axis('off')\n",
    "    axs10.set_title('Noisy Sinogram')\n",
    "    plt.colorbar(im10, ax = axs10)\n",
    "    im11 = axs11.imshow(phantom_recos[idx], cmap='gray')\n",
    "    axs11.axis('off')\n",
    "    axs11.set_title('Reconstructed Phantom')\n",
    "    plt.colorbar(im11, ax = axs11)\n",
    "\n",
    "    axsplot.plot(dims[:idx+1], phantom_err[:idx+1], alpha=0.9)\n",
    "    axsplot.scatter(dims[idx], phantom_err[idx], label='CT')\n",
    "    axsplot.plot(dims[:idx+1], img_err[:idx+1], alpha=0.5)\n",
    "    axsplot.scatter(dims[idx], img_err[idx], label='Color Negation')\n",
    "    axsplot.set_title('Reconstruction Error')\n",
    "    axsplot.set_xlabel('Dimension')\n",
    "    axsplot.set_xlim([180,820])\n",
    "    axsplot.set_xticks(dims)\n",
    "    axsplot.set_ylim([0,1.6])\n",
    "    axsplot.legend(loc='upper left')\n",
    "\n",
    "\n",
    "    plt.suptitle('Resolution '+str(dims[idx]) + r'$\\times$' + str(dims[idx]))\n",
    "\n",
    "\n",
    "slider3 = widgets.IntSlider(min = 0, max = len(dims)-1, step = 1, value = 0, continuous_update = True)\n",
    "interactive_plot3 = interactive(plot_resolutions, idx = slider3)\n",
    "display(interactive_plot3)"
   ]
  }
 ],
 "metadata": {
  "kernelspec": {
   "display_name": "Python 3 (ipykernel)",
   "language": "python",
   "name": "python3"
  },
  "language_info": {
   "codemirror_mode": {
    "name": "ipython",
    "version": 3
   },
   "file_extension": ".py",
   "mimetype": "text/x-python",
   "name": "python",
   "nbconvert_exporter": "python",
   "pygments_lexer": "ipython3",
   "version": "3.11.5"
  }
 },
 "nbformat": 4,
 "nbformat_minor": 4
}
