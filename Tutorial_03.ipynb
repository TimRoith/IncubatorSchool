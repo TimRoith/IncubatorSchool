{
 "cells": [
  {
   "cell_type": "markdown",
   "id": "196d3141-3c24-4317-8e48-7c24184d00f3",
   "metadata": {},
   "source": [
    "# Data Driven Approaches\n",
    "\n",
    "In this tutorial we want to explore some data driven methods for image reconstruction. We will consider the limited angle CT problem with additonal noise on the sinogram. Our test data will be composed of simple shapes which can be loaded from the utils module.\n",
    "\n",
    "Let's take a first look at some of the shapes."
   ]
  },
  {
   "cell_type": "code",
   "execution_count": 1,
   "id": "df322f8a-6bc0-4949-9b8b-58425467ee74",
   "metadata": {},
   "outputs": [
    {
     "data": {
      "image/png": "[encoded data removed]",
      "text/plain": [
       "<Figure size 2000x1500 with 5 Axes>"
      ]
     },
     "metadata": {},
     "output_type": "display_data"
    }
   ],
   "source": [
    "import matplotlib.pyplot as plt\n",
    "from utils import shapes\n",
    "\n",
    "img_size = 64 #image size\n",
    "S = shapes(img_size=img_size, noise_lvl=0.05) # the shape class\n",
    "shape_names = ['rectangle', 'circle', 'triangle', 'ellipse', 'random'] # all shape names\n",
    "\n",
    "# plot all shapes\n",
    "fig, ax = plt.subplots(1,len(shape_names), figsize=(20,15))\n",
    "for i in range(len(shape_names)):\n",
    "    ax[i].imshow(S.get_shape(shape_names[i]))\n",
    "    ax[i].set_title(shape_names[i])"
   ]
  },
  {
   "cell_type": "markdown",
   "id": "1a1d05eb-4459-452f-94b8-2f165dde6058",
   "metadata": {},
   "source": [
    "# How does our data look like?\n",
    "Our data is given as the naive recon of a limited angle CT problem. The next cell defines the function that samples a batch of the data. The second output of the function ```get_data``` is the original input (ground truth) that will be used for the supervised learning scheme.\n",
    "\n",
    "The original image is returned as a  ```torch``` tensor, since this is more convinient for the training later. Furthermore, inputs and outputs into the net will have the shape\n",
    "\n",
    "$$\n",
    "B \\times C \\times N\\times N\n",
    "$$\n",
    "\n",
    "where\n",
    "\n",
    "* $B$ denotes the batch size,\n",
    "* $C$ the number of channels (we always use $C=1$),\n",
    "* $N$ the image dimension.\n",
    "\n",
    "We have to be careful when we compare ```numpy``` and ```torch``` obejcts in the following. If we want to plot a ```torch``` Tensor ```x```, the following steps might be necessary:\n",
    "\n",
    "* ```x.detach()```: if the tensor ```x``` has a gradient, then we need to detach it first.\n",
    "* ```x.numpy()```: this converts a ```torch``` tensor without a gradient, to a ```numpy``` array. Commands like ```plt.imshow``` do this internally.\n",
    "* ```x[b,c,...]```: ```plt.imshow``` only works for 2D arrays, so we have to select one batch element $b$ and a channel $c$.\n",
    "\n",
    "We now define a routine that returns our data. Basically, we sample a shape $x$ and then also return\n",
    "\n",
    "$$R^{-1}(R(x) + \\delta)$$\n",
    "\n",
    "as the input to the net, where $R$ is the Radon transform with limited angles ($0^\\circ$ to $90^\\circ$), and $\\delta$ denotes noise. Here, $R^{-1}$ is not the true inverse, but the naive Radon inversion."
   ]
  },
  {
   "cell_type": "code",
   "execution_count": null,
   "id": "0f461893-2c32-432a-8635-924341156d42",
   "metadata": {},
   "outputs": [],
   "source": [
    "import torch\n",
    "import numpy as np\n",
    "from operators import Radon\n",
    "\n",
    "num_thetas = 10\n",
    "min_angle = 0\n",
    "max_angle = 90\n",
    "theta = np.linspace(min_angle, max_angle, endpoint = False, num=num_thetas)\n",
    "R = Radon(theta=theta)\n",
    "\n",
    "def get_data(batch_size, train_shape, noise_lvl):\n",
    "    x_recon = np.zeros((batch_size, 1, img_size, img_size))\n",
    "    x = np.zeros((batch_size, 1, img_size, img_size))\n",
    "\n",
    "    # set real images and inputs\n",
    "    for i in range(batch_size):\n",
    "        x[i,0,...] = S.get_shape(train_shape)\n",
    "        sinogram =  R(x[i,0,...])\n",
    "        sinogram += np.random.normal(0, noise_lvl, size=sinogram.shape)\n",
    "        x_recon[i, 0, ...] = R.inverse(sinogram)\n",
    "\n",
    "    return x_recon, torch.Tensor(x)"
   ]
  },
  {
   "cell_type": "markdown",
   "id": "3ae8b3c8-f226-45ca-93f3-ecde17f13dbf",
   "metadata": {},
   "source": [
    "# Let's look at our Data!\n",
    "The below cell samples data from ```get_data```."
   ]
  },
  {
   "cell_type": "code",
   "execution_count": null,
   "id": "fe9b3ea9-8cb4-490c-a3f2-d5241acae1c9",
   "metadata": {},
   "outputs": [],
   "source": [
    "x_recon, x = get_data(5, 'random', 0.00)\n",
    "\n",
    "fig, ax = plt.subplots(1,2, figsize = (10,8))\n",
    "ax[1].imshow(x_recon[0,0,...])\n",
    "ax[1].set_title('Naive Recon')\n",
    "ax[0].imshow(x.detach()[0,0,...])\n",
    "ax[0].set_title('Original')"
   ]
  },
  {
   "cell_type": "markdown",
   "id": "dea6ee58-3aad-47ae-b09e-3d5c33e79803",
   "metadata": {},
   "source": [
    "# Loading the model\n",
    "\n",
    "We now define the neural network model, we want to train in the following. Here, we use the celebrated UNet structure from this paper:\n",
    "\n",
    "<center>\n",
    "\"Ronneberger, O., Fischer, P., & Brox, T. (2015). U-net: Convolutional networks for biomedical image segmentation. In Medical Image Computing and Computer-Assisted Intervention–MICCAI 2015: 18th International Conference, Munich, Germany, October 5-9, 2015, Proceedings, Part III 18 (pp. 234-241). Springer International Publishing.\"\n",
    "</center>\n",
    "\n",
    "The model architecture is reimplemented (and slightly compressed) in the ```models``` module.\n",
    "\n",
    "We will now load the model and check how many parameters we will train in the following. Spoiler: Quite a lot."
   ]
  },
  {
   "cell_type": "code",
   "execution_count": null,
   "id": "9132076d-5bae-4d77-8e8b-d292d9d12de8",
   "metadata": {},
   "outputs": [],
   "source": [
    "from models import UNet\n",
    "model = UNet()\n",
    "\n",
    "model_parameters = filter(lambda p: p.requires_grad, model.parameters())\n",
    "num_params = sum([np.prod(p.size()) for p in model_parameters])\n",
    "\n",
    "print('Loaded the model with ' +str(num_params) + ' trainable parameters')"
   ]
  },
  {
   "cell_type": "code",
   "execution_count": null,
   "id": "a04363d8-9a8e-41c3-a5a0-5ce8c096d497",
   "metadata": {},
   "outputs": [],
   "source": [
    "\n",
    "import torch\n",
    "import torch.nn as nn\n",
    "\n",
    "\n",
    "\n",
    "noise_lvl = 0.02\n",
    "loss_fct = nn.MSELoss()\n",
    "opt = torch.optim.Adam(model.parameters(), lr=0.001)\n",
    "scheduler = torch.optim.lr_scheduler.CosineAnnealingLR(opt, T_max=10, eta_min=0)\n",
    "\n",
    "\n"
   ]
  },
  {
   "cell_type": "code",
   "execution_count": null,
   "id": "30122564-cb5b-4096-a727-1ac5552e5b09",
   "metadata": {},
   "outputs": [],
   "source": []
  },
  {
   "cell_type": "code",
   "execution_count": null,
   "id": "3860e547-6626-48c3-8395-ac65e2438ad8",
   "metadata": {},
   "outputs": [],
   "source": [
    "def train_step(get_data, batch_size=5, train_shape='rectangle'):\n",
    "    opt.zero_grad()\n",
    "    x_recon, x = get_data(batch_size, train_shape)\n",
    "    \n",
    "    x_model = model(x_recon)\n",
    "    loss = loss_fct(x_model, x)\n",
    "    loss.backward()\n",
    "    opt.step()\n",
    "    scheduler.step()\n",
    "    \n",
    "    loss1 = loss.item()\n",
    "    loss2 = loss_fct(torch.Tensor(x_recon), torch.Tensor(x)).item()\n",
    "\n",
    "    if loss1 < best_loss:\n",
    "        best_model.load_state_dict(model.state_dict())\n",
    "    print(30*'-')\n",
    "    print('Epoch: ' + str(epoch))\n",
    "    print('Current Loss:' + str(loss1))\n",
    "    print('IRadon Loss:' + str(loss2))\n",
    "    for param_group in opt.param_groups:\n",
    "        print('Current lr:' + str(param_group['lr']))"
   ]
  },
  {
   "cell_type": "markdown",
   "id": "0ee1e86a-fecb-439a-b44f-2e2217894f7c",
   "metadata": {},
   "source": [
    "Let's train the net"
   ]
  },
  {
   "cell_type": "code",
   "execution_count": null,
   "id": "9af86987-3c62-4268-8031-7d28248afa41",
   "metadata": {
    "scrolled": true
   },
   "outputs": [],
   "source": [
    "train_shape = 'circle'\n",
    "batch_size = 5\n",
    "epochs = 400\n",
    "\n",
    "for epoch in range(epochs):\n",
    "    train_step(get_data, batch_size=batch_size, train_shape=train_shape)"
   ]
  },
  {
   "cell_type": "code",
   "execution_count": null,
   "id": "f0e4d80e-d982-40b4-b6f4-e583f2641519",
   "metadata": {},
   "outputs": [],
   "source": [
    "## save the model\n",
    "save_model = False\n",
    "if save_model:\n",
    "    torch.save(model.state_dict(), train_shape + '.pt')"
   ]
  },
  {
   "cell_type": "code",
   "execution_count": null,
   "id": "4a4348c3-6e58-48c6-ab85-1fdbd758143c",
   "metadata": {},
   "outputs": [],
   "source": [
    "load_model = True\n",
    "if load_model:\n",
    "    model.load_state_dict(torch.load('circle2.pt'))"
   ]
  },
  {
   "cell_type": "markdown",
   "id": "e3094bb8-7d9c-4fd0-8ede-a9a77b67f5fa",
   "metadata": {},
   "source": [
    "Let's look at the results"
   ]
  },
  {
   "cell_type": "code",
   "execution_count": null,
   "id": "12eb9d18-af1f-43fb-8cd6-dc7d971ead08",
   "metadata": {},
   "outputs": [],
   "source": [
    "# %% Test\n",
    "from utils import get_phantom\n",
    "img_size_test=64\n",
    "S_test = shapes(img_size=img_size_test)\n",
    "\n",
    "min_angle = 0\n",
    "max_angle = 90\n",
    "theta = np.linspace(min_angle,max_angle, endpoint = False, num=num_thetas)\n",
    "R = Radon(theta=theta)\n",
    "\n",
    "test_shape = 'rectangle'\n",
    "test_shape = 'circle'\n",
    "#test_shape = 'triangle'\n",
    "#test_shape = 'ellipse'\n",
    "I = S_test.get_shape(test_shape)\n",
    "#I = get_phantom(img_size_test)\n",
    "\n",
    "I_sino = R(I)\n",
    "#I_sino += noise(I_sino)\n",
    "recon = R.inv(I_sino)\n",
    "model_recon = model(recon)\n",
    "\n",
    "\n",
    "fig, ax = plt.subplots(1,3, figsize = (20,15))\n",
    "ax[0].imshow(I)\n",
    "ax[1].imshow(model_recon.detach()[0,0,...])\n",
    "ax[2].imshow(recon)"
   ]
  },
  {
   "cell_type": "markdown",
   "id": "6d32bd23-727e-4ef3-bf83-756bb539c5ea",
   "metadata": {},
   "source": [
    "# Train a Denoising Task"
   ]
  },
  {
   "cell_type": "code",
   "execution_count": null,
   "id": "e5ecfab8-a97f-4f94-8ce3-4fcc81195bc3",
   "metadata": {},
   "outputs": [],
   "source": [
    "num_thetas = 30\n",
    "min_angle = 0\n",
    "max_angle = 180\n",
    "theta = np.linspace(min_angle, max_angle, endpoint = False, num=num_thetas)\n",
    "R = Radon(theta=theta)\n",
    "\n",
    "noise_lvl = 0.01\n",
    "def noise(x):\n",
    "    return np.random.normal(0, noise_lvl, size=x.shape)\n",
    "\n",
    "def get_data(batch_size, train_shape):\n",
    "    x_recon = np.zeros((batch_size, 1, img_size, img_size))\n",
    "    x = np.zeros((batch_size, 1, img_size, img_size))\n",
    "\n",
    "    # set real images and inputs\n",
    "    for i in range(batch_size):\n",
    "        x[i,0,...] = S.get_shape(train_shape)\n",
    "        x_recon[i, 0, ...] = x[i,0,...] + noise(x[i,0,...])\n",
    "    return x_recon, torch.Tensor(x)"
   ]
  },
  {
   "cell_type": "markdown",
   "id": "1fc4db94-b05c-4519-90f3-d09c30fa7a32",
   "metadata": {},
   "source": [
    "Look at the data"
   ]
  },
  {
   "cell_type": "code",
   "execution_count": null,
   "id": "16ecab9a-14fa-4d47-b2d8-e6fd2c0a8c63",
   "metadata": {},
   "outputs": [],
   "source": [
    "x_recon, x = get_data(5, 'rectangle')\n",
    "\n",
    "fig, ax = plt.subplots(1,2, figsize = (20,15))\n",
    "ax[1].imshow(x_recon[0,0,...])\n",
    "ax[1].set_title('Naive Recon')\n",
    "ax[0].imshow(x.detach()[0,0,...])\n",
    "ax[0].set_title('Original')"
   ]
  },
  {
   "cell_type": "markdown",
   "id": "faff4daf-f591-4083-9f3d-b36d4504d35f",
   "metadata": {},
   "source": [
    "# Train again"
   ]
  },
  {
   "cell_type": "code",
   "execution_count": null,
   "id": "c4b18ed0-b352-442f-942a-651123880da3",
   "metadata": {},
   "outputs": [],
   "source": [
    "model = UNet()\n",
    "opt = torch.optim.Adam(model.parameters(), lr=0.001)\n",
    "scheduler = torch.optim.lr_scheduler.CosineAnnealingLR(opt, T_max=10, eta_min=0)"
   ]
  },
  {
   "cell_type": "code",
   "execution_count": null,
   "id": "1edd6a93-8910-4313-8415-e16ede97aab7",
   "metadata": {
    "scrolled": true
   },
   "outputs": [],
   "source": [
    "train_shape = 'random'\n",
    "batch_size = 5\n",
    "epochs = 50\n",
    "\n",
    "for epoch in range(epochs):\n",
    "    train_step(get_data, batch_size=batch_size, train_shape=train_shape)"
   ]
  },
  {
   "cell_type": "markdown",
   "id": "66cd5816-cd60-40b9-a2cd-a9a8aaf135c7",
   "metadata": {},
   "source": [
    "# How well does it work?"
   ]
  },
  {
   "cell_type": "code",
   "execution_count": null,
   "id": "00ebfa2f-e0d9-4367-800a-16ae5d2331ce",
   "metadata": {},
   "outputs": [],
   "source": [
    "x_recon, x = get_data(5, 'random')\n",
    "\n",
    "fig, ax = plt.subplots(1,3)\n",
    "ax[2].imshow(model(x_recon).detach()[0,0,...])\n",
    "ax[2].set_title('Model Recon')\n",
    "ax[1].imshow(x_recon[0,0,...])\n",
    "ax[1].set_title('Naive Recon')\n",
    "ax[0].imshow(x.detach()[0,0,...])\n",
    "ax[0].set_title('Original')"
   ]
  },
  {
   "cell_type": "code",
   "execution_count": null,
   "id": "92453a95-8c5f-438a-b71c-8169cc08db4e",
   "metadata": {},
   "outputs": [],
   "source": [
    "from optimizers import optimizer, lv, lscg\n",
    "from operators import soft_shrinkage\n",
    "\n",
    "class proxGD(optimizer):\n",
    "    def __init__(self, A, x, y, t=0.1, lamda=1.0, prox=None, **kwargs):\n",
    "        super().__init__(**kwargs)\n",
    "        self.A = A\n",
    "        self.x = x\n",
    "        self.y = y\n",
    "        self.lamda = lamda\n",
    "        self.t = t\n",
    "        self.prox = prox if not prox is None else soft_shrinkage\n",
    "    \n",
    "    def step(self,):\n",
    "        grad = self.A.adjoint(self.A(self.x) - self.y)\n",
    "        lin_up = self.x - 2 * self.t * grad\n",
    "        self.x = self.prox(lin_up, self.lamda * self.t)\n",
    "\n",
    "\n",
    "class admm(optimizer):\n",
    "    def __init__(self, A, x, y, rho=0.1, lamda=1.0, prox=None, max_inner_it=5, **kwargs):\n",
    "        super().__init__(**kwargs)\n",
    "        self.A = A\n",
    "        self.x = x\n",
    "        self.y = y\n",
    "        self.lamda = lamda\n",
    "        self.prox = prox if not prox is None else soft_shrinkage\n",
    "        self.v = self.prox(self.x ,self.lamda)\n",
    "        self.u = 0*self.x\n",
    "        \n",
    "        self.rho = rho\n",
    "        \n",
    "        self.inner_verbosity = 0\n",
    "        self.max_inner_it = max_inner_it\n",
    "        \n",
    "        class cg_op: \n",
    "            def __call__(self,x):\n",
    "                return lv([A(x), rho * 0.5 * x])\n",
    "\n",
    "            def adjoint(self, p):\n",
    "                return A.adjoint(p[0]) + rho * 0.5 * p[1]\n",
    "\n",
    "        self.cg_op = cg_op()\n",
    "\n",
    "    def step(self):\n",
    "        inner_rhs = lv([self.y, self.rho * 0.5 * (self.v - self.u)])\n",
    "        self.x = self.solve_inner(inner_rhs)\n",
    "        self.v = self.prox(self.x + self.u ,self.lamda)\n",
    "        self.u = self.u + self.x -self.v\n",
    "\n",
    "    def solve_inner(self, rhs):\n",
    "        return lscg(self.cg_op, rhs, self.x, \n",
    "                    verbosity = self.inner_verbosity, \n",
    "                    max_it=self.max_inner_it).solve()"
   ]
  },
  {
   "cell_type": "code",
   "execution_count": null,
   "id": "d6d9efcb-ab4e-459b-bfa9-877a0fe954fb",
   "metadata": {},
   "outputs": [],
   "source": [
    "def model_prox(x, lamda):\n",
    "    lamda = max(min(lamda, 1.),0)\n",
    "    return (1-lamda) * x + lamda * model(x).detach().numpy()[0,0,...]\n",
    "\n",
    "noise_lvl = 0.04\n",
    "def noise(x):\n",
    "    return np.random.normal(0, noise_lvl, size=x.shape)\n",
    "\n",
    "\n",
    "x_recon, x = get_data(5, 'random')\n",
    "Rx = R(x[0,0,...])\n",
    "Rx += noise(Rx)\n",
    "x0 = R.inv(Rx)\n",
    "\n",
    "\n",
    "#x0 = x_recon[0,0,...]\n",
    "sinogram = R(x0)\n",
    "#pGD = proxGD(R, x0, Rx, t=0.02, lamda=1., verbosity=0, prox=model_prox, max_it=10)\n",
    "pGD = admm(R, x0, Rx, rho=0.3, lamda=1., verbosity=0, prox=model_prox, max_it=35, max_inner_it=1)\n",
    "pGD.solve()\n",
    "\n",
    "x = x[0,0,...].numpy()\n",
    "x_model = model(x0).detach().numpy()[0,0,...]\n",
    "fig, ax = plt.subplots(1,4, figsize=(20,15))\n",
    "ax[3].imshow(x)\n",
    "ax[3].set_title('original')\n",
    "ax[2].imshow(pGD.x)\n",
    "ax[2].set_title('ProxGD Recon, error: ' + str(np.linalg.norm(pGD.x - x)))\n",
    "ax[1].imshow(x_model)\n",
    "ax[1].set_title('Model Recon, error: ' + str(np.linalg.norm(x_model - x)))\n",
    "ax[0].imshow(x0)\n",
    "ax[0].set_title('Naive Recon')"
   ]
  },
  {
   "cell_type": "code",
   "execution_count": null,
   "id": "18aef163-28b9-457f-9b70-11b3ebab6412",
   "metadata": {},
   "outputs": [],
   "source": []
  }
 ],
 "metadata": {
  "kernelspec": {
   "display_name": "Python 3 (ipykernel)",
   "language": "python",
   "name": "python3"
  },
  "language_info": {
   "codemirror_mode": {
    "name": "ipython",
    "version": 3
   },
   "file_extension": ".py",
   "mimetype": "text/x-python",
   "name": "python",
   "nbconvert_exporter": "python",
   "pygments_lexer": "ipython3",
   "version": "3.10.10"
  }
 },
 "nbformat": 4,
 "nbformat_minor": 5
}
